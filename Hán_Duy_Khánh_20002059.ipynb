{
  "nbformat": 4,
  "nbformat_minor": 0,
  "metadata": {
    "colab": {
      "provenance": [],
      "collapsed_sections": [],
      "authorship_tag": "ABX9TyOWAc8fc3upICJuwDpmCZNO",
      "include_colab_link": true
    },
    "kernelspec": {
      "name": "python3",
      "display_name": "Python 3"
    },
    "language_info": {
      "name": "python"
    }
  },
  "cells": [
    {
      "cell_type": "markdown",
      "metadata": {
        "id": "view-in-github",
        "colab_type": "text"
      },
      "source": [
        "<a href=\"https://colab.research.google.com/github/HanKhanh25/HanKhanh25/blob/main/H%C3%A1n_Duy_Kh%C3%A1nh_20002059.ipynb\" target=\"_parent\"><img src=\"https://colab.research.google.com/assets/colab-badge.svg\" alt=\"Open In Colab\"/></a>"
      ]
    },
    {
      "cell_type": "code",
      "execution_count": 3,
      "metadata": {
        "colab": {
          "base_uri": "https://localhost:8080/"
        },
        "id": "F07komai8Z4L",
        "outputId": "c7261b46-435c-4c07-fb08-ae534d17df17"
      },
      "outputs": [
        {
          "output_type": "stream",
          "name": "stdout",
          "text": [
            "Looking in indexes: https://pypi.org/simple, https://us-python.pkg.dev/colab-wheels/public/simple/\n",
            "Requirement already satisfied: pyspark in /usr/local/lib/python3.7/dist-packages (3.3.1)\n",
            "Requirement already satisfied: py4j==0.10.9.5 in /usr/local/lib/python3.7/dist-packages (from pyspark) (0.10.9.5)\n",
            "The following package was automatically installed and is no longer required:\n",
            "  libnvidia-common-460\n",
            "Use 'apt autoremove' to remove it.\n",
            "The following additional packages will be installed:\n",
            "  openjdk-8-jre-headless\n",
            "Suggested packages:\n",
            "  openjdk-8-demo openjdk-8-source libnss-mdns fonts-dejavu-extra\n",
            "  fonts-ipafont-gothic fonts-ipafont-mincho fonts-wqy-microhei\n",
            "  fonts-wqy-zenhei fonts-indic\n",
            "The following NEW packages will be installed:\n",
            "  openjdk-8-jdk-headless openjdk-8-jre-headless\n",
            "0 upgraded, 2 newly installed, 0 to remove and 27 not upgraded.\n",
            "Need to get 36.6 MB of archives.\n",
            "After this operation, 143 MB of additional disk space will be used.\n",
            "Selecting previously unselected package openjdk-8-jre-headless:amd64.\n",
            "(Reading database ... 123942 files and directories currently installed.)\n",
            "Preparing to unpack .../openjdk-8-jre-headless_8u342-b07-0ubuntu1~18.04_amd64.deb ...\n",
            "Unpacking openjdk-8-jre-headless:amd64 (8u342-b07-0ubuntu1~18.04) ...\n",
            "Selecting previously unselected package openjdk-8-jdk-headless:amd64.\n",
            "Preparing to unpack .../openjdk-8-jdk-headless_8u342-b07-0ubuntu1~18.04_amd64.deb ...\n",
            "Unpacking openjdk-8-jdk-headless:amd64 (8u342-b07-0ubuntu1~18.04) ...\n",
            "Setting up openjdk-8-jre-headless:amd64 (8u342-b07-0ubuntu1~18.04) ...\n",
            "update-alternatives: using /usr/lib/jvm/java-8-openjdk-amd64/jre/bin/orbd to provide /usr/bin/orbd (orbd) in auto mode\n",
            "update-alternatives: using /usr/lib/jvm/java-8-openjdk-amd64/jre/bin/servertool to provide /usr/bin/servertool (servertool) in auto mode\n",
            "update-alternatives: using /usr/lib/jvm/java-8-openjdk-amd64/jre/bin/tnameserv to provide /usr/bin/tnameserv (tnameserv) in auto mode\n",
            "Setting up openjdk-8-jdk-headless:amd64 (8u342-b07-0ubuntu1~18.04) ...\n",
            "update-alternatives: using /usr/lib/jvm/java-8-openjdk-amd64/bin/idlj to provide /usr/bin/idlj (idlj) in auto mode\n",
            "update-alternatives: using /usr/lib/jvm/java-8-openjdk-amd64/bin/wsimport to provide /usr/bin/wsimport (wsimport) in auto mode\n",
            "update-alternatives: using /usr/lib/jvm/java-8-openjdk-amd64/bin/jsadebugd to provide /usr/bin/jsadebugd (jsadebugd) in auto mode\n",
            "update-alternatives: using /usr/lib/jvm/java-8-openjdk-amd64/bin/native2ascii to provide /usr/bin/native2ascii (native2ascii) in auto mode\n",
            "update-alternatives: using /usr/lib/jvm/java-8-openjdk-amd64/bin/javah to provide /usr/bin/javah (javah) in auto mode\n",
            "update-alternatives: using /usr/lib/jvm/java-8-openjdk-amd64/bin/clhsdb to provide /usr/bin/clhsdb (clhsdb) in auto mode\n",
            "update-alternatives: using /usr/lib/jvm/java-8-openjdk-amd64/bin/xjc to provide /usr/bin/xjc (xjc) in auto mode\n",
            "update-alternatives: using /usr/lib/jvm/java-8-openjdk-amd64/bin/hsdb to provide /usr/bin/hsdb (hsdb) in auto mode\n",
            "update-alternatives: using /usr/lib/jvm/java-8-openjdk-amd64/bin/schemagen to provide /usr/bin/schemagen (schemagen) in auto mode\n",
            "update-alternatives: using /usr/lib/jvm/java-8-openjdk-amd64/bin/extcheck to provide /usr/bin/extcheck (extcheck) in auto mode\n",
            "update-alternatives: using /usr/lib/jvm/java-8-openjdk-amd64/bin/jhat to provide /usr/bin/jhat (jhat) in auto mode\n",
            "update-alternatives: using /usr/lib/jvm/java-8-openjdk-amd64/bin/wsgen to provide /usr/bin/wsgen (wsgen) in auto mode\n"
          ]
        }
      ],
      "source": [
        "!pip install pyspark\n",
        "!pip install -U -q PyDrive\n",
        "!apt install openjdk-8-jdk-headless -qq\n"
      ]
    },
    {
      "cell_type": "markdown",
      "source": [],
      "metadata": {
        "id": "bd_cPSHP88RG"
      }
    },
    {
      "cell_type": "code",
      "source": [
        "from pyspark.sql import SparkSession\n",
        "from pyspark.sql import Row\n",
        "from pyspark.sql import functions\n",
        "# import zipfile\n",
        "# with zipfile.ZipFile(\"ml-100k.zip\", 'r') as zip_ref:\n",
        "#     zip_ref.extractall()\n",
        "  \n",
        "\n",
        "\n",
        " \n",
        "\n",
        "\n",
        "\n",
        "\n",
        "\n",
        "\n"
      ],
      "metadata": {
        "id": "PajA3IfA88zc"
      },
      "execution_count": 32,
      "outputs": []
    },
    {
      "cell_type": "code",
      "source": [
        "def loadMovieNames():\n",
        "  movieNames = {}\n",
        "  with open (\"ml-100k/u.item\", encoding = \"latin1\") as f:\n",
        "    for line in f:\n",
        "      fields = line.split('|')\n",
        "      movieNames[int(fields[0])] = fields[1]\n",
        "      return movieNames\n",
        "movieNames = loadMovieNames()\n",
        "print(movieNames) "
      ],
      "metadata": {
        "colab": {
          "base_uri": "https://localhost:8080/"
        },
        "id": "EjZEVZwf8lSU",
        "outputId": "5557543e-c420-428e-c1e0-590490ce7775"
      },
      "execution_count": 33,
      "outputs": [
        {
          "output_type": "stream",
          "name": "stdout",
          "text": [
            "{1: 'Toy Story (1995)'}\n"
          ]
        }
      ]
    },
    {
      "cell_type": "code",
      "source": [
        "def parseInput(line):\n",
        "  fields = line.split() \n",
        "  return Row(movieID = int(fields[1]), rating = float(fields[2]))"
      ],
      "metadata": {
        "id": "nTEw13zLIjES"
      },
      "execution_count": 34,
      "outputs": []
    },
    {
      "cell_type": "code",
      "source": [
        "spark = SparkSession.builder.appName(\"PopularMovies\").getOrCreate()"
      ],
      "metadata": {
        "id": "1yLoBAGmIjAv"
      },
      "execution_count": 35,
      "outputs": []
    },
    {
      "cell_type": "code",
      "source": [
        "lines = spark.sparkContext.textFile(\"ml-100k/u.data\")"
      ],
      "metadata": {
        "id": "e30A0A9VIi9j"
      },
      "execution_count": 36,
      "outputs": []
    },
    {
      "cell_type": "code",
      "source": [
        "movies = lines.map(parseInput)\n",
        "movies.take(10)"
      ],
      "metadata": {
        "colab": {
          "base_uri": "https://localhost:8080/"
        },
        "id": "kze_WxMkIi6k",
        "outputId": "8d6d6436-ca40-4dfa-bae1-13c3c11fa080"
      },
      "execution_count": 37,
      "outputs": [
        {
          "output_type": "execute_result",
          "data": {
            "text/plain": [
              "[Row(movieID=242, rating=3.0),\n",
              " Row(movieID=302, rating=3.0),\n",
              " Row(movieID=377, rating=1.0),\n",
              " Row(movieID=51, rating=2.0),\n",
              " Row(movieID=346, rating=1.0),\n",
              " Row(movieID=474, rating=4.0),\n",
              " Row(movieID=265, rating=2.0),\n",
              " Row(movieID=465, rating=5.0),\n",
              " Row(movieID=451, rating=3.0),\n",
              " Row(movieID=86, rating=3.0)]"
            ]
          },
          "metadata": {},
          "execution_count": 37
        }
      ]
    },
    {
      "cell_type": "code",
      "source": [
        "movieDataset = spark.createDataFrame(movies)\n",
        "movieDataset.take(10)"
      ],
      "metadata": {
        "colab": {
          "base_uri": "https://localhost:8080/"
        },
        "id": "MZFORqXgIi3X",
        "outputId": "5acab927-5f80-4063-deec-1c8a00a7a8cf"
      },
      "execution_count": 38,
      "outputs": [
        {
          "output_type": "execute_result",
          "data": {
            "text/plain": [
              "[Row(movieID=242, rating=3.0),\n",
              " Row(movieID=302, rating=3.0),\n",
              " Row(movieID=377, rating=1.0),\n",
              " Row(movieID=51, rating=2.0),\n",
              " Row(movieID=346, rating=1.0),\n",
              " Row(movieID=474, rating=4.0),\n",
              " Row(movieID=265, rating=2.0),\n",
              " Row(movieID=465, rating=5.0),\n",
              " Row(movieID=451, rating=3.0),\n",
              " Row(movieID=86, rating=3.0)]"
            ]
          },
          "metadata": {},
          "execution_count": 38
        }
      ]
    },
    {
      "cell_type": "code",
      "source": [
        "averageRatings = movieDataset.groupBy(\"movieID\").avg(\"rating\")\n",
        "averageRatings.take(10)"
      ],
      "metadata": {
        "colab": {
          "base_uri": "https://localhost:8080/"
        },
        "id": "Opdql-lVIis3",
        "outputId": "afae871b-f9d7-4e1e-f5dd-ff25a0d0c1ba"
      },
      "execution_count": 39,
      "outputs": [
        {
          "output_type": "execute_result",
          "data": {
            "text/plain": [
              "[Row(movieID=474, avg(rating)=4.252577319587629),\n",
              " Row(movieID=29, avg(rating)=2.6666666666666665),\n",
              " Row(movieID=26, avg(rating)=3.452054794520548),\n",
              " Row(movieID=964, avg(rating)=3.3333333333333335),\n",
              " Row(movieID=65, avg(rating)=3.5391304347826087),\n",
              " Row(movieID=191, avg(rating)=4.163043478260869),\n",
              " Row(movieID=1224, avg(rating)=2.6666666666666665),\n",
              " Row(movieID=558, avg(rating)=3.6714285714285713),\n",
              " Row(movieID=1010, avg(rating)=3.25),\n",
              " Row(movieID=418, avg(rating)=3.5813953488372094)]"
            ]
          },
          "metadata": {},
          "execution_count": 39
        }
      ]
    },
    {
      "cell_type": "code",
      "source": [
        "counts = movieDataset.groupBy(\"movieID\").count()\n",
        "counts.take(10)"
      ],
      "metadata": {
        "colab": {
          "base_uri": "https://localhost:8080/"
        },
        "id": "gPysH8l0Iih6",
        "outputId": "cb571fa4-23ad-4ca1-9678-384e3de3d011"
      },
      "execution_count": 40,
      "outputs": [
        {
          "output_type": "execute_result",
          "data": {
            "text/plain": [
              "[Row(movieID=474, count=194),\n",
              " Row(movieID=29, count=114),\n",
              " Row(movieID=26, count=73),\n",
              " Row(movieID=964, count=9),\n",
              " Row(movieID=65, count=115),\n",
              " Row(movieID=191, count=276),\n",
              " Row(movieID=1224, count=12),\n",
              " Row(movieID=558, count=70),\n",
              " Row(movieID=1010, count=44),\n",
              " Row(movieID=418, count=129)]"
            ]
          },
          "metadata": {},
          "execution_count": 40
        }
      ]
    },
    {
      "cell_type": "code",
      "source": [
        "averagesAndCounts = counts.join(averageRatings, \"movieID\")\n",
        "averagesAndCounts.take(10)"
      ],
      "metadata": {
        "colab": {
          "base_uri": "https://localhost:8080/"
        },
        "id": "3bBiHzmnIiSY",
        "outputId": "2166798a-85ad-4aba-eb8a-49d5975cf722"
      },
      "execution_count": 41,
      "outputs": [
        {
          "output_type": "execute_result",
          "data": {
            "text/plain": [
              "[Row(movieID=474, count=194, avg(rating)=4.252577319587629),\n",
              " Row(movieID=29, count=114, avg(rating)=2.6666666666666665),\n",
              " Row(movieID=26, count=73, avg(rating)=3.452054794520548),\n",
              " Row(movieID=964, count=9, avg(rating)=3.3333333333333335),\n",
              " Row(movieID=65, count=115, avg(rating)=3.5391304347826087),\n",
              " Row(movieID=191, count=276, avg(rating)=4.163043478260869),\n",
              " Row(movieID=1224, count=12, avg(rating)=2.6666666666666665),\n",
              " Row(movieID=558, count=70, avg(rating)=3.6714285714285713),\n",
              " Row(movieID=1010, count=44, avg(rating)=3.25),\n",
              " Row(movieID=418, count=129, avg(rating)=3.5813953488372094)]"
            ]
          },
          "metadata": {},
          "execution_count": 41
        }
      ]
    },
    {
      "cell_type": "code",
      "source": [
        "sorted_DF = averagesAndCounts.orderBy(\"avg(rating)\")\n",
        "topTen = sorted_DF.head(10)\n",
        "for movie in topTen:\n",
        "  print(movieNames[movie[0]], movie[1], movie[2])\n",
        "spark.stop() "
      ],
      "metadata": {
        "colab": {
          "base_uri": "https://localhost:8080/",
          "height": 217
        },
        "id": "6_pvc9-0Ih9v",
        "outputId": "a098e3e1-1e5f-4f86-d652-90fae4a754a2"
      },
      "execution_count": 42,
      "outputs": [
        {
          "output_type": "error",
          "ename": "KeyError",
          "evalue": "ignored",
          "traceback": [
            "\u001b[0;31m---------------------------------------------------------------------------\u001b[0m",
            "\u001b[0;31mKeyError\u001b[0m                                  Traceback (most recent call last)",
            "\u001b[0;32m<ipython-input-42-aad72151ebc0>\u001b[0m in \u001b[0;36m<module>\u001b[0;34m\u001b[0m\n\u001b[1;32m      2\u001b[0m \u001b[0mtopTen\u001b[0m \u001b[0;34m=\u001b[0m \u001b[0msorted_DF\u001b[0m\u001b[0;34m.\u001b[0m\u001b[0mhead\u001b[0m\u001b[0;34m(\u001b[0m\u001b[0;36m10\u001b[0m\u001b[0;34m)\u001b[0m\u001b[0;34m\u001b[0m\u001b[0;34m\u001b[0m\u001b[0m\n\u001b[1;32m      3\u001b[0m \u001b[0;32mfor\u001b[0m \u001b[0mmovie\u001b[0m \u001b[0;32min\u001b[0m \u001b[0mtopTen\u001b[0m\u001b[0;34m:\u001b[0m\u001b[0;34m\u001b[0m\u001b[0;34m\u001b[0m\u001b[0m\n\u001b[0;32m----> 4\u001b[0;31m   \u001b[0mprint\u001b[0m\u001b[0;34m(\u001b[0m\u001b[0mmovieNames\u001b[0m\u001b[0;34m[\u001b[0m\u001b[0mmovie\u001b[0m\u001b[0;34m[\u001b[0m\u001b[0;36m0\u001b[0m\u001b[0;34m]\u001b[0m\u001b[0;34m]\u001b[0m\u001b[0;34m,\u001b[0m \u001b[0mmovie\u001b[0m\u001b[0;34m[\u001b[0m\u001b[0;36m1\u001b[0m\u001b[0;34m]\u001b[0m\u001b[0;34m,\u001b[0m \u001b[0mmovie\u001b[0m\u001b[0;34m[\u001b[0m\u001b[0;36m2\u001b[0m\u001b[0;34m]\u001b[0m\u001b[0;34m)\u001b[0m\u001b[0;34m\u001b[0m\u001b[0;34m\u001b[0m\u001b[0m\n\u001b[0m\u001b[1;32m      5\u001b[0m \u001b[0mspark\u001b[0m\u001b[0;34m.\u001b[0m\u001b[0mstop\u001b[0m\u001b[0;34m(\u001b[0m\u001b[0;34m)\u001b[0m\u001b[0;34m\u001b[0m\u001b[0;34m\u001b[0m\u001b[0m\n",
            "\u001b[0;31mKeyError\u001b[0m: 1571"
          ]
        }
      ]
    },
    {
      "cell_type": "markdown",
      "source": [
        "# New Section"
      ],
      "metadata": {
        "id": "8_Wz3fi0J5ni"
      }
    }
  ]
}